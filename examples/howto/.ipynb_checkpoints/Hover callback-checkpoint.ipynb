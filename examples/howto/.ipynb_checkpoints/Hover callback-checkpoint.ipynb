{
 "cells": [
  {
   "cell_type": "code",
   "execution_count": 1,
   "metadata": {
    "collapsed": true
   },
   "outputs": [],
   "source": [
    "from bokeh.plotting import figure, output_notebook, show\n",
    "from bokeh.models import ColumnDataSource, HoverTool, CustomJS"
   ]
  },
  {
   "cell_type": "code",
   "execution_count": 2,
   "metadata": {
    "collapsed": false
   },
   "outputs": [
    {
     "data": {
      "text/html": [
       "\n",
       "    <div class=\"bk-banner\">\n",
       "        <a href=\"http://bokeh.pydata.org\" target=\"_blank\" class=\"bk-logo bk-logo-small bk-logo-notebook\"></a>\n",
       "        <span id=\"fa69c6f2-0dc8-443e-ae49-511011b4ec76\">Loading BokehJS ...</span>\n",
       "    </div>"
      ]
     },
     "metadata": {},
     "output_type": "display_data"
    },
    {
     "data": {
      "application/javascript": [
       "\n",
       "(function(global) {\n",
       "  function now() {\n",
       "    return new Date();\n",
       "  }\n",
       "\n",
       "  if (typeof (window._bokeh_onload_callbacks) === \"undefined\") {\n",
       "    window._bokeh_onload_callbacks = [];\n",
       "  }\n",
       "\n",
       "  function run_callbacks() {\n",
       "    window._bokeh_onload_callbacks.forEach(function(callback) { callback() });\n",
       "    delete window._bokeh_onload_callbacks\n",
       "    console.info(\"Bokeh: all callbacks have finished\");\n",
       "  }\n",
       "\n",
       "  function load_libs(js_urls, callback) {\n",
       "    window._bokeh_onload_callbacks.push(callback);\n",
       "    if (window._bokeh_is_loading > 0) {\n",
       "      console.log(\"Bokeh: BokehJS is being loaded, scheduling callback at\", now());\n",
       "      return null;\n",
       "    }\n",
       "    if (js_urls == null || js_urls.length === 0) {\n",
       "      run_callbacks();\n",
       "      return null;\n",
       "    }\n",
       "    console.log(\"Bokeh: BokehJS not loaded, scheduling load and callback at\", now());\n",
       "    window._bokeh_is_loading = js_urls.length;\n",
       "    for (var i = 0; i < js_urls.length; i++) {\n",
       "      var url = js_urls[i];\n",
       "      var s = document.createElement('script');\n",
       "      s.src = url;\n",
       "      s.async = false;\n",
       "      s.onreadystatechange = s.onload = function() {\n",
       "        window._bokeh_is_loading--;\n",
       "        if (window._bokeh_is_loading === 0) {\n",
       "          console.log(\"Bokeh: all BokehJS libraries loaded\");\n",
       "          run_callbacks()\n",
       "        }\n",
       "      };\n",
       "      s.onerror = function() {\n",
       "        console.warn(\"failed to load library \" + url);\n",
       "      };\n",
       "      console.log(\"Bokeh: injecting script tag for BokehJS library: \", url);\n",
       "      document.getElementsByTagName(\"head\")[0].appendChild(s);\n",
       "    }\n",
       "  };\n",
       "\n",
       "  var js_urls = ['https://cdn.pydata.org/bokeh/release/bokeh-0.11.1.min.js', 'https://cdn.pydata.org/bokeh/release/bokeh-widgets-0.11.1.min.js', 'https://cdn.pydata.org/bokeh/release/bokeh-compiler-0.11.1.min.js'];\n",
       "\n",
       "  var inline_js = [\n",
       "    function(Bokeh) {\n",
       "      Bokeh.set_log_level(\"info\");\n",
       "    },\n",
       "    \n",
       "    function(Bokeh) {\n",
       "      Bokeh.$(\"#fa69c6f2-0dc8-443e-ae49-511011b4ec76\").text(\"BokehJS successfully loaded\");\n",
       "    },\n",
       "    function(Bokeh) {\n",
       "      console.log(\"Bokeh: injecting CSS: https://cdn.pydata.org/bokeh/release/bokeh-0.11.1.min.css\");\n",
       "      Bokeh.embed.inject_css(\"https://cdn.pydata.org/bokeh/release/bokeh-0.11.1.min.css\");\n",
       "      console.log(\"Bokeh: injecting CSS: https://cdn.pydata.org/bokeh/release/bokeh-widgets-0.11.1.min.css\");\n",
       "      Bokeh.embed.inject_css(\"https://cdn.pydata.org/bokeh/release/bokeh-widgets-0.11.1.min.css\");\n",
       "    }\n",
       "  ];\n",
       "\n",
       "  function run_inline_js() {\n",
       "    for (var i = 0; i < inline_js.length; i++) {\n",
       "      inline_js[i](window.Bokeh);\n",
       "    }\n",
       "  }\n",
       "\n",
       "  if (window._bokeh_is_loading === 0) {\n",
       "    console.log(\"Bokeh: BokehJS loaded, going straight to plotting\");\n",
       "    run_inline_js();\n",
       "  } else {\n",
       "    load_libs(js_urls, function() {\n",
       "      console.log(\"Bokeh: BokehJS plotting callback run at\", now());\n",
       "      run_inline_js();\n",
       "    });\n",
       "  }\n",
       "}(this));"
      ]
     },
     "metadata": {},
     "output_type": "display_data"
    }
   ],
   "source": [
    "output_notebook()"
   ]
  },
  {
   "cell_type": "code",
   "execution_count": 3,
   "metadata": {
    "collapsed": true
   },
   "outputs": [],
   "source": [
    "# define some points and a little graph between them\n",
    "x = [2, 3, 5, 6, 8, 7]\n",
    "y = [6, 4, 3, 8, 7, 5]\n",
    "links = {\n",
    "    0: [1, 2],\n",
    "    1: [0, 3, 4],\n",
    "    2: [0, 5],\n",
    "    3: [1, 4],\n",
    "    4: [1, 3],\n",
    "    5: [2, 3, 4]\n",
    "}"
   ]
  },
  {
   "cell_type": "code",
   "execution_count": 4,
   "metadata": {
    "collapsed": true
   },
   "outputs": [],
   "source": [
    "p = figure(width=400, height=400, tools=\"\", toolbar_location=None, title='Hover over points')"
   ]
  },
  {
   "cell_type": "code",
   "execution_count": 5,
   "metadata": {
    "collapsed": true
   },
   "outputs": [],
   "source": [
    "source = ColumnDataSource({'x0': [], 'y0': [], 'x1': [], 'y1': []})\n",
    "sr = p.segment(x0='x0', y0='y0', x1='x1', y1='y1', color='olive', alpha=0.6, line_width=3, source=source, )\n",
    "cr = p.circle(x, y, color='olive', size=30, alpha=0.4, hover_color='olive', hover_alpha=1.0)"
   ]
  },
  {
   "cell_type": "code",
   "execution_count": 6,
   "metadata": {
    "collapsed": true
   },
   "outputs": [],
   "source": [
    "# Add a hover tool, that sets the link data for a hovered circle\n",
    "code = \"\"\"\n",
    "var links = %s;\n",
    "var data = {'x0': [], 'y0': [], 'x1': [], 'y1': []};\n",
    "var cdata = circle.get('data');\n",
    "var indices = cb_data.index['1d'].indices;\n",
    "for (i=0; i < indices.length; i++) {\n",
    "    ind0 = indices[i]\n",
    "    for (j=0; j < links[ind0].length; j++) {\n",
    "        ind1 = links[ind0][j];\n",
    "        data['x0'].push(cdata.x[ind0]);\n",
    "        data['y0'].push(cdata.y[ind0]);\n",
    "        data['x1'].push(cdata.x[ind1]);\n",
    "        data['y1'].push(cdata.y[ind1]);\n",
    "    }\n",
    "}\n",
    "segment.set('data', data);\n",
    "\"\"\" % links\n",
    "\n",
    "callback = CustomJS(args={'circle': cr.data_source, 'segment': sr.data_source}, code=code)\n",
    "p.add_tools(HoverTool(tooltips=None, callback=callback, renderers=[cr]))"
   ]
  },
  {
   "cell_type": "code",
   "execution_count": 7,
   "metadata": {
    "collapsed": false
   },
   "outputs": [
    {
     "data": {
      "text/html": [
       "\n",
       "\n",
       "    <div class=\"plotdiv\" id=\"86acc351-751b-4bfb-9f6f-4af2c14b53dd\"></div>\n",
       "<script type=\"text/javascript\">\n",
       "  \n",
       "  (function(global) {\n",
       "    function now() {\n",
       "      return new Date();\n",
       "    }\n",
       "  \n",
       "    if (typeof (window._bokeh_onload_callbacks) === \"undefined\") {\n",
       "      window._bokeh_onload_callbacks = [];\n",
       "    }\n",
       "  \n",
       "    function run_callbacks() {\n",
       "      window._bokeh_onload_callbacks.forEach(function(callback) { callback() });\n",
       "      delete window._bokeh_onload_callbacks\n",
       "      console.info(\"Bokeh: all callbacks have finished\");\n",
       "    }\n",
       "  \n",
       "    function load_libs(js_urls, callback) {\n",
       "      window._bokeh_onload_callbacks.push(callback);\n",
       "      if (window._bokeh_is_loading > 0) {\n",
       "        console.log(\"Bokeh: BokehJS is being loaded, scheduling callback at\", now());\n",
       "        return null;\n",
       "      }\n",
       "      if (js_urls == null || js_urls.length === 0) {\n",
       "        run_callbacks();\n",
       "        return null;\n",
       "      }\n",
       "      console.log(\"Bokeh: BokehJS not loaded, scheduling load and callback at\", now());\n",
       "      window._bokeh_is_loading = js_urls.length;\n",
       "      for (var i = 0; i < js_urls.length; i++) {\n",
       "        var url = js_urls[i];\n",
       "        var s = document.createElement('script');\n",
       "        s.src = url;\n",
       "        s.async = false;\n",
       "        s.onreadystatechange = s.onload = function() {\n",
       "          window._bokeh_is_loading--;\n",
       "          if (window._bokeh_is_loading === 0) {\n",
       "            console.log(\"Bokeh: all BokehJS libraries loaded\");\n",
       "            run_callbacks()\n",
       "          }\n",
       "        };\n",
       "        s.onerror = function() {\n",
       "          console.warn(\"failed to load library \" + url);\n",
       "        };\n",
       "        console.log(\"Bokeh: injecting script tag for BokehJS library: \", url);\n",
       "        document.getElementsByTagName(\"head\")[0].appendChild(s);\n",
       "      }\n",
       "    };var element = document.getElementById(\"86acc351-751b-4bfb-9f6f-4af2c14b53dd\");\n",
       "    if (element == null) {\n",
       "      console.log(\"Bokeh: ERROR: autoload.js configured with elementid '86acc351-751b-4bfb-9f6f-4af2c14b53dd' but no matching script tag was found. \")\n",
       "      return false;\n",
       "    }\n",
       "  \n",
       "    var js_urls = [];\n",
       "  \n",
       "    var inline_js = [\n",
       "      function(Bokeh) {\n",
       "        Bokeh.$(function() {\n",
       "            var docs_json = {\"07a172df-e060-4f03-81ed-707a35e36c25\":{\"roots\":{\"references\":[{\"attributes\":{\"plot\":{\"id\":\"9e09b846-c6ff-4a84-a7d3-117c897325d3\",\"subtype\":\"Figure\",\"type\":\"Plot\"},\"ticker\":{\"id\":\"36da468d-0fbf-409a-825c-583d368e9bce\",\"type\":\"BasicTicker\"}},\"id\":\"545ccaee-94b9-48bc-9268-ab3ab571352b\",\"type\":\"Grid\"},{\"attributes\":{\"args\":{\"circle\":{\"id\":\"138dc129-ab08-4623-919a-e6fba00fa69c\",\"type\":\"ColumnDataSource\"},\"segment\":{\"id\":\"dbf3bd01-8320-4321-80b8-fd27f9b3a715\",\"type\":\"ColumnDataSource\"}},\"code\":\"\\nvar links = {0: [1, 2], 1: [0, 3, 4], 2: [0, 5], 3: [1, 4], 4: [1, 3], 5: [2, 3, 4]};\\nvar data = {'x0': [], 'y0': [], 'x1': [], 'y1': []};\\nvar cdata = circle.get('data');\\nvar indices = cb_data.index['1d'].indices;\\nfor (i=0; i < indices.length; i++) {\\n    ind0 = indices[i]\\n    for (j=0; j < links[ind0].length; j++) {\\n        ind1 = links[ind0][j];\\n        data['x0'].push(cdata.x[ind0]);\\n        data['y0'].push(cdata.y[ind0]);\\n        data['x1'].push(cdata.x[ind1]);\\n        data['y1'].push(cdata.y[ind1]);\\n    }\\n}\\nsegment.set('data', data);\\n\"},\"id\":\"c26cd3f4-a93b-42ce-a86a-8507c26cc42b\",\"type\":\"CustomJS\"},{\"attributes\":{\"fill_alpha\":{\"value\":0.4},\"fill_color\":{\"value\":\"olive\"},\"line_alpha\":{\"value\":0.4},\"line_color\":{\"value\":\"olive\"},\"size\":{\"units\":\"screen\",\"value\":30},\"x\":{\"field\":\"x\"},\"y\":{\"field\":\"y\"}},\"id\":\"395fd758-08ac-4ed0-9206-8ead1dba0086\",\"type\":\"Circle\"},{\"attributes\":{\"line_alpha\":{\"value\":0.1},\"line_color\":{\"value\":\"#1f77b4\"},\"line_width\":{\"value\":3},\"x0\":{\"field\":\"x0\"},\"x1\":{\"field\":\"x1\"},\"y0\":{\"field\":\"y0\"},\"y1\":{\"field\":\"y1\"}},\"id\":\"6c16515a-a645-4e19-bb39-a03030dd34b7\",\"type\":\"Segment\"},{\"attributes\":{\"callback\":null},\"id\":\"ea0cb05e-dce1-4374-89bc-002c350e6828\",\"type\":\"DataRange1d\"},{\"attributes\":{\"below\":[{\"id\":\"a0ea144d-15a3-43ee-8a69-842756f1cc0a\",\"type\":\"LinearAxis\"}],\"left\":[{\"id\":\"61550ae5-ace7-418e-9681-a7157a869dc1\",\"type\":\"LinearAxis\"}],\"plot_height\":400,\"plot_width\":400,\"renderers\":[{\"id\":\"a0ea144d-15a3-43ee-8a69-842756f1cc0a\",\"type\":\"LinearAxis\"},{\"id\":\"545ccaee-94b9-48bc-9268-ab3ab571352b\",\"type\":\"Grid\"},{\"id\":\"61550ae5-ace7-418e-9681-a7157a869dc1\",\"type\":\"LinearAxis\"},{\"id\":\"3d521338-54d7-4130-9f47-19f97157e26d\",\"type\":\"Grid\"},{\"id\":\"57a42e26-c748-4a0c-8f21-38119548e203\",\"type\":\"GlyphRenderer\"},{\"id\":\"8a8a7ccf-e62c-4959-ad32-7b9ff2f71d14\",\"type\":\"GlyphRenderer\"}],\"title\":\"Hover over points\",\"tool_events\":{\"id\":\"6ba2fc06-b628-45f4-8c7f-f1c09adc4b9a\",\"type\":\"ToolEvents\"},\"toolbar_location\":null,\"tools\":[{\"id\":\"aeec8ffd-f6cb-4834-969b-360e02b60415\",\"type\":\"HoverTool\"}],\"x_range\":{\"id\":\"57fb3098-f9fe-4d21-9979-1aa605c92d4f\",\"type\":\"DataRange1d\"},\"y_range\":{\"id\":\"ea0cb05e-dce1-4374-89bc-002c350e6828\",\"type\":\"DataRange1d\"}},\"id\":\"9e09b846-c6ff-4a84-a7d3-117c897325d3\",\"subtype\":\"Figure\",\"type\":\"Plot\"},{\"attributes\":{\"callback\":{\"id\":\"c26cd3f4-a93b-42ce-a86a-8507c26cc42b\",\"type\":\"CustomJS\"},\"plot\":{\"id\":\"9e09b846-c6ff-4a84-a7d3-117c897325d3\",\"subtype\":\"Figure\",\"type\":\"Plot\"},\"renderers\":[{\"id\":\"8a8a7ccf-e62c-4959-ad32-7b9ff2f71d14\",\"type\":\"GlyphRenderer\"}],\"tooltips\":null},\"id\":\"aeec8ffd-f6cb-4834-969b-360e02b60415\",\"type\":\"HoverTool\"},{\"attributes\":{},\"id\":\"2b940209-4b29-441c-a904-e56aea1ca5c8\",\"type\":\"BasicTickFormatter\"},{\"attributes\":{\"formatter\":{\"id\":\"0cfb34db-fa81-4d3e-9653-b23f0478363a\",\"type\":\"BasicTickFormatter\"},\"plot\":{\"id\":\"9e09b846-c6ff-4a84-a7d3-117c897325d3\",\"subtype\":\"Figure\",\"type\":\"Plot\"},\"ticker\":{\"id\":\"cc4e80a3-61fc-4e11-ba80-29d54fd7ee22\",\"type\":\"BasicTicker\"}},\"id\":\"61550ae5-ace7-418e-9681-a7157a869dc1\",\"type\":\"LinearAxis\"},{\"attributes\":{\"line_alpha\":{\"value\":0.6},\"line_color\":{\"value\":\"olive\"},\"line_width\":{\"value\":3},\"x0\":{\"field\":\"x0\"},\"x1\":{\"field\":\"x1\"},\"y0\":{\"field\":\"y0\"},\"y1\":{\"field\":\"y1\"}},\"id\":\"ad1e1736-d29a-4d6f-be87-eb7db74d956d\",\"type\":\"Segment\"},{\"attributes\":{\"data_source\":{\"id\":\"138dc129-ab08-4623-919a-e6fba00fa69c\",\"type\":\"ColumnDataSource\"},\"glyph\":{\"id\":\"395fd758-08ac-4ed0-9206-8ead1dba0086\",\"type\":\"Circle\"},\"hover_glyph\":{\"id\":\"25a7dc79-859c-4891-9b9e-bbe217a2972d\",\"type\":\"Circle\"},\"nonselection_glyph\":{\"id\":\"85c3dab6-2fdb-4d98-8209-e7bd059a76a3\",\"type\":\"Circle\"},\"selection_glyph\":null},\"id\":\"8a8a7ccf-e62c-4959-ad32-7b9ff2f71d14\",\"type\":\"GlyphRenderer\"},{\"attributes\":{},\"id\":\"0cfb34db-fa81-4d3e-9653-b23f0478363a\",\"type\":\"BasicTickFormatter\"},{\"attributes\":{\"data_source\":{\"id\":\"dbf3bd01-8320-4321-80b8-fd27f9b3a715\",\"type\":\"ColumnDataSource\"},\"glyph\":{\"id\":\"ad1e1736-d29a-4d6f-be87-eb7db74d956d\",\"type\":\"Segment\"},\"hover_glyph\":null,\"nonselection_glyph\":{\"id\":\"6c16515a-a645-4e19-bb39-a03030dd34b7\",\"type\":\"Segment\"},\"selection_glyph\":null},\"id\":\"57a42e26-c748-4a0c-8f21-38119548e203\",\"type\":\"GlyphRenderer\"},{\"attributes\":{\"formatter\":{\"id\":\"2b940209-4b29-441c-a904-e56aea1ca5c8\",\"type\":\"BasicTickFormatter\"},\"plot\":{\"id\":\"9e09b846-c6ff-4a84-a7d3-117c897325d3\",\"subtype\":\"Figure\",\"type\":\"Plot\"},\"ticker\":{\"id\":\"36da468d-0fbf-409a-825c-583d368e9bce\",\"type\":\"BasicTicker\"}},\"id\":\"a0ea144d-15a3-43ee-8a69-842756f1cc0a\",\"type\":\"LinearAxis\"},{\"attributes\":{},\"id\":\"36da468d-0fbf-409a-825c-583d368e9bce\",\"type\":\"BasicTicker\"},{\"attributes\":{\"fill_color\":{\"value\":\"olive\"},\"line_color\":{\"value\":\"olive\"},\"size\":{\"units\":\"screen\",\"value\":30},\"x\":{\"field\":\"x\"},\"y\":{\"field\":\"y\"}},\"id\":\"25a7dc79-859c-4891-9b9e-bbe217a2972d\",\"type\":\"Circle\"},{\"attributes\":{\"callback\":null},\"id\":\"57fb3098-f9fe-4d21-9979-1aa605c92d4f\",\"type\":\"DataRange1d\"},{\"attributes\":{},\"id\":\"cc4e80a3-61fc-4e11-ba80-29d54fd7ee22\",\"type\":\"BasicTicker\"},{\"attributes\":{\"dimension\":1,\"plot\":{\"id\":\"9e09b846-c6ff-4a84-a7d3-117c897325d3\",\"subtype\":\"Figure\",\"type\":\"Plot\"},\"ticker\":{\"id\":\"cc4e80a3-61fc-4e11-ba80-29d54fd7ee22\",\"type\":\"BasicTicker\"}},\"id\":\"3d521338-54d7-4130-9f47-19f97157e26d\",\"type\":\"Grid\"},{\"attributes\":{\"callback\":null,\"column_names\":[\"x\",\"y\"],\"data\":{\"x\":[2,3,5,6,8,7],\"y\":[6,4,3,8,7,5]}},\"id\":\"138dc129-ab08-4623-919a-e6fba00fa69c\",\"type\":\"ColumnDataSource\"},{\"attributes\":{},\"id\":\"6ba2fc06-b628-45f4-8c7f-f1c09adc4b9a\",\"type\":\"ToolEvents\"},{\"attributes\":{\"callback\":null,\"column_names\":[\"x0\",\"x1\",\"y1\",\"y0\"],\"data\":{\"x0\":[],\"x1\":[],\"y0\":[],\"y1\":[]}},\"id\":\"dbf3bd01-8320-4321-80b8-fd27f9b3a715\",\"type\":\"ColumnDataSource\"},{\"attributes\":{\"fill_alpha\":{\"value\":0.1},\"fill_color\":{\"value\":\"#1f77b4\"},\"line_alpha\":{\"value\":0.1},\"line_color\":{\"value\":\"#1f77b4\"},\"size\":{\"units\":\"screen\",\"value\":30},\"x\":{\"field\":\"x\"},\"y\":{\"field\":\"y\"}},\"id\":\"85c3dab6-2fdb-4d98-8209-e7bd059a76a3\",\"type\":\"Circle\"}],\"root_ids\":[\"9e09b846-c6ff-4a84-a7d3-117c897325d3\"]},\"title\":\"Bokeh Application\",\"version\":\"0.11.1\"}};\n",
       "            var render_items = [{\"docid\":\"07a172df-e060-4f03-81ed-707a35e36c25\",\"elementid\":\"86acc351-751b-4bfb-9f6f-4af2c14b53dd\",\"modelid\":\"9e09b846-c6ff-4a84-a7d3-117c897325d3\",\"notebook_comms_target\":\"9a6396eb-8d44-425c-a952-10cb5dc178b7\"}];\n",
       "            \n",
       "            Bokeh.embed.embed_items(docs_json, render_items);\n",
       "        });\n",
       "      },\n",
       "      function(Bokeh) {\n",
       "      }\n",
       "    ];\n",
       "  \n",
       "    function run_inline_js() {\n",
       "      for (var i = 0; i < inline_js.length; i++) {\n",
       "        inline_js[i](window.Bokeh);\n",
       "      }\n",
       "    }\n",
       "  \n",
       "    if (window._bokeh_is_loading === 0) {\n",
       "      console.log(\"Bokeh: BokehJS loaded, going straight to plotting\");\n",
       "      run_inline_js();\n",
       "    } else {\n",
       "      load_libs(js_urls, function() {\n",
       "        console.log(\"Bokeh: BokehJS plotting callback run at\", now());\n",
       "        run_inline_js();\n",
       "      });\n",
       "    }\n",
       "  }(this));\n",
       "</script>"
      ]
     },
     "metadata": {},
     "output_type": "display_data"
    },
    {
     "data": {
      "text/html": [
       "<p><code>&lt;Bokeh Notebook handle for <strong>In[7]</strong>&gt;</code></p>"
      ],
      "text/plain": [
       "<bokeh.io._CommsHandle at 0x23c92724748>"
      ]
     },
     "execution_count": 7,
     "metadata": {},
     "output_type": "execute_result"
    }
   ],
   "source": [
    "show(p)"
   ]
  },
  {
   "cell_type": "code",
   "execution_count": null,
   "metadata": {
    "collapsed": true
   },
   "outputs": [],
   "source": []
  }
 ],
 "metadata": {
  "kernelspec": {
   "display_name": "Python 3",
   "language": "python",
   "name": "python3"
  },
  "language_info": {
   "codemirror_mode": {
    "name": "ipython",
    "version": 3
   },
   "file_extension": ".py",
   "mimetype": "text/x-python",
   "name": "python",
   "nbconvert_exporter": "python",
   "pygments_lexer": "ipython3",
   "version": "3.5.1"
  }
 },
 "nbformat": 4,
 "nbformat_minor": 0
}
