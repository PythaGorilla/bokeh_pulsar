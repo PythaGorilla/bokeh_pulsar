{
 "cells": [
  {
   "cell_type": "code",
   "execution_count": 2,
   "metadata": {
    "collapsed": false
   },
   "outputs": [],
   "source": [
    "import time\n",
    "\n",
    "from bokeh.models import ColumnDataSource, HoverTool\n",
    "from bokeh.plotting import figure, show, output_notebook, output_server, hplot\n",
    "from bokeh.io import push_notebook"
   ]
  },
  {
   "cell_type": "code",
   "execution_count": 3,
   "metadata": {
    "collapsed": false
   },
   "outputs": [
    {
     "data": {
      "text/html": [
       "\n",
       "    <div class=\"bk-banner\">\n",
       "        <a href=\"http://bokeh.pydata.org\" target=\"_blank\" class=\"bk-logo bk-logo-small bk-logo-notebook\"></a>\n",
       "        <span id=\"201586bd-f98b-4006-b366-3cf48cbcad65\">Loading BokehJS ...</span>\n",
       "    </div>"
      ]
     },
     "metadata": {},
     "output_type": "display_data"
    },
    {
     "data": {
      "application/javascript": [
       "\n",
       "(function(global) {\n",
       "  function now() {\n",
       "    return new Date();\n",
       "  }\n",
       "\n",
       "  if (typeof (window._bokeh_onload_callbacks) === \"undefined\") {\n",
       "    window._bokeh_onload_callbacks = [];\n",
       "  }\n",
       "\n",
       "  function run_callbacks() {\n",
       "    window._bokeh_onload_callbacks.forEach(function(callback) { callback() });\n",
       "    delete window._bokeh_onload_callbacks\n",
       "    console.info(\"Bokeh: all callbacks have finished\");\n",
       "  }\n",
       "\n",
       "  function load_libs(js_urls, callback) {\n",
       "    window._bokeh_onload_callbacks.push(callback);\n",
       "    if (window._bokeh_is_loading > 0) {\n",
       "      console.log(\"Bokeh: BokehJS is being loaded, scheduling callback at\", now());\n",
       "      return null;\n",
       "    }\n",
       "    if (js_urls == null || js_urls.length === 0) {\n",
       "      run_callbacks();\n",
       "      return null;\n",
       "    }\n",
       "    console.log(\"Bokeh: BokehJS not loaded, scheduling load and callback at\", now());\n",
       "    window._bokeh_is_loading = js_urls.length;\n",
       "    for (var i = 0; i < js_urls.length; i++) {\n",
       "      var url = js_urls[i];\n",
       "      var s = document.createElement('script');\n",
       "      s.src = url;\n",
       "      s.async = false;\n",
       "      s.onreadystatechange = s.onload = function() {\n",
       "        window._bokeh_is_loading--;\n",
       "        if (window._bokeh_is_loading === 0) {\n",
       "          console.log(\"Bokeh: all BokehJS libraries loaded\");\n",
       "          run_callbacks()\n",
       "        }\n",
       "      };\n",
       "      s.onerror = function() {\n",
       "        console.warn(\"failed to load library \" + url);\n",
       "      };\n",
       "      console.log(\"Bokeh: injecting script tag for BokehJS library: \", url);\n",
       "      document.getElementsByTagName(\"head\")[0].appendChild(s);\n",
       "    }\n",
       "  };\n",
       "\n",
       "  var js_urls = ['https://cdn.pydata.org/bokeh/release/bokeh-0.11.1.min.js', 'https://cdn.pydata.org/bokeh/release/bokeh-widgets-0.11.1.min.js', 'https://cdn.pydata.org/bokeh/release/bokeh-compiler-0.11.1.min.js'];\n",
       "\n",
       "  var inline_js = [\n",
       "    function(Bokeh) {\n",
       "      Bokeh.set_log_level(\"info\");\n",
       "    },\n",
       "    \n",
       "    function(Bokeh) {\n",
       "      Bokeh.$(\"#201586bd-f98b-4006-b366-3cf48cbcad65\").text(\"BokehJS successfully loaded\");\n",
       "    },\n",
       "    function(Bokeh) {\n",
       "      console.log(\"Bokeh: injecting CSS: https://cdn.pydata.org/bokeh/release/bokeh-0.11.1.min.css\");\n",
       "      Bokeh.embed.inject_css(\"https://cdn.pydata.org/bokeh/release/bokeh-0.11.1.min.css\");\n",
       "      console.log(\"Bokeh: injecting CSS: https://cdn.pydata.org/bokeh/release/bokeh-widgets-0.11.1.min.css\");\n",
       "      Bokeh.embed.inject_css(\"https://cdn.pydata.org/bokeh/release/bokeh-widgets-0.11.1.min.css\");\n",
       "    }\n",
       "  ];\n",
       "\n",
       "  function run_inline_js() {\n",
       "    for (var i = 0; i < inline_js.length; i++) {\n",
       "      inline_js[i](window.Bokeh);\n",
       "    }\n",
       "  }\n",
       "\n",
       "  if (window._bokeh_is_loading === 0) {\n",
       "    console.log(\"Bokeh: BokehJS loaded, going straight to plotting\");\n",
       "    run_inline_js();\n",
       "  } else {\n",
       "    load_libs(js_urls, function() {\n",
       "      console.log(\"Bokeh: BokehJS plotting callback run at\", now());\n",
       "      run_inline_js();\n",
       "    });\n",
       "  }\n",
       "}(this));"
      ]
     },
     "metadata": {},
     "output_type": "display_data"
    }
   ],
   "source": [
    "output_notebook()"
   ]
  },
  {
   "cell_type": "code",
   "execution_count": 4,
   "metadata": {
    "collapsed": true
   },
   "outputs": [],
   "source": [
    "opts = dict(plot_width=250, plot_height=250, min_border=0)"
   ]
  },
  {
   "cell_type": "code",
   "execution_count": 5,
   "metadata": {
    "collapsed": false
   },
   "outputs": [
    {
     "data": {
      "text/html": [
       "\n",
       "\n",
       "    <div class=\"plotdiv\" id=\"58c47f9f-e2f0-47f2-93e6-f1a49ba8659f\"></div>\n",
       "<script type=\"text/javascript\">\n",
       "  \n",
       "  (function(global) {\n",
       "    function now() {\n",
       "      return new Date();\n",
       "    }\n",
       "  \n",
       "    if (typeof (window._bokeh_onload_callbacks) === \"undefined\") {\n",
       "      window._bokeh_onload_callbacks = [];\n",
       "    }\n",
       "  \n",
       "    function run_callbacks() {\n",
       "      window._bokeh_onload_callbacks.forEach(function(callback) { callback() });\n",
       "      delete window._bokeh_onload_callbacks\n",
       "      console.info(\"Bokeh: all callbacks have finished\");\n",
       "    }\n",
       "  \n",
       "    function load_libs(js_urls, callback) {\n",
       "      window._bokeh_onload_callbacks.push(callback);\n",
       "      if (window._bokeh_is_loading > 0) {\n",
       "        console.log(\"Bokeh: BokehJS is being loaded, scheduling callback at\", now());\n",
       "        return null;\n",
       "      }\n",
       "      if (js_urls == null || js_urls.length === 0) {\n",
       "        run_callbacks();\n",
       "        return null;\n",
       "      }\n",
       "      console.log(\"Bokeh: BokehJS not loaded, scheduling load and callback at\", now());\n",
       "      window._bokeh_is_loading = js_urls.length;\n",
       "      for (var i = 0; i < js_urls.length; i++) {\n",
       "        var url = js_urls[i];\n",
       "        var s = document.createElement('script');\n",
       "        s.src = url;\n",
       "        s.async = false;\n",
       "        s.onreadystatechange = s.onload = function() {\n",
       "          window._bokeh_is_loading--;\n",
       "          if (window._bokeh_is_loading === 0) {\n",
       "            console.log(\"Bokeh: all BokehJS libraries loaded\");\n",
       "            run_callbacks()\n",
       "          }\n",
       "        };\n",
       "        s.onerror = function() {\n",
       "          console.warn(\"failed to load library \" + url);\n",
       "        };\n",
       "        console.log(\"Bokeh: injecting script tag for BokehJS library: \", url);\n",
       "        document.getElementsByTagName(\"head\")[0].appendChild(s);\n",
       "      }\n",
       "    };var element = document.getElementById(\"58c47f9f-e2f0-47f2-93e6-f1a49ba8659f\");\n",
       "    if (element == null) {\n",
       "      console.log(\"Bokeh: ERROR: autoload.js configured with elementid '58c47f9f-e2f0-47f2-93e6-f1a49ba8659f' but no matching script tag was found. \")\n",
       "      return false;\n",
       "    }\n",
       "  \n",
       "    var js_urls = [];\n",
       "  \n",
       "    var inline_js = [\n",
       "      function(Bokeh) {\n",
       "        Bokeh.$(function() {\n",
       "            var docs_json = {\"74a777fb-cb79-4aac-9ee3-3f38b269eb06\":{\"roots\":{\"references\":[{\"attributes\":{\"plot\":{\"id\":\"547ef8b8-8326-472d-a1b4-5552de23005e\",\"subtype\":\"Figure\",\"type\":\"Plot\"}},\"id\":\"8d2174dd-cc4f-46ab-8dfd-9794e82d94bf\",\"type\":\"WheelZoomTool\"},{\"attributes\":{\"formatter\":{\"id\":\"94376f62-de86-4e3c-b1a3-505afadeeee2\",\"type\":\"BasicTickFormatter\"},\"plot\":{\"id\":\"547ef8b8-8326-472d-a1b4-5552de23005e\",\"subtype\":\"Figure\",\"type\":\"Plot\"},\"ticker\":{\"id\":\"195e6671-a7cc-44c2-84ce-a75adb225700\",\"type\":\"BasicTicker\"}},\"id\":\"e454bb5d-a2ed-4a2e-b2fe-6526cb2b665f\",\"type\":\"LinearAxis\"},{\"attributes\":{\"fill_color\":{\"value\":\"#1f77b4\"},\"line_color\":{\"value\":\"#1f77b4\"},\"size\":{\"units\":\"screen\",\"value\":20},\"x\":{\"field\":\"x\"},\"y\":{\"field\":\"y\"}},\"id\":\"dcca869f-267d-48b1-93d2-58d68479f90f\",\"type\":\"Circle\"},{\"attributes\":{\"plot\":{\"id\":\"547ef8b8-8326-472d-a1b4-5552de23005e\",\"subtype\":\"Figure\",\"type\":\"Plot\"}},\"id\":\"dd5055e0-cb1e-4fb5-9afc-aa3881e6da83\",\"type\":\"HelpTool\"},{\"attributes\":{},\"id\":\"4d15a1f1-eea8-47db-97a3-64bd6be6ca27\",\"type\":\"BasicTicker\"},{\"attributes\":{},\"id\":\"195e6671-a7cc-44c2-84ce-a75adb225700\",\"type\":\"BasicTicker\"},{\"attributes\":{\"callback\":null},\"id\":\"a0cae4f9-2fe6-4351-8b5a-93a6545e04b5\",\"type\":\"DataRange1d\"},{\"attributes\":{\"fill_color\":{\"value\":\"#1f77b4\"},\"line_color\":{\"value\":\"#1f77b4\"},\"size\":{\"units\":\"screen\",\"value\":20},\"x\":{\"field\":\"x\"},\"y\":{\"field\":\"y\"}},\"id\":\"6f5d9ba4-2061-462f-9a39-c6f3837fb5ea\",\"type\":\"Circle\"},{\"attributes\":{\"below\":[{\"id\":\"e454bb5d-a2ed-4a2e-b2fe-6526cb2b665f\",\"type\":\"LinearAxis\"}],\"left\":[{\"id\":\"c74d1ca0-2f48-4d15-af70-0e0afb67504f\",\"type\":\"LinearAxis\"}],\"min_border\":0,\"plot_height\":250,\"plot_width\":250,\"renderers\":[{\"id\":\"e454bb5d-a2ed-4a2e-b2fe-6526cb2b665f\",\"type\":\"LinearAxis\"},{\"id\":\"fe20ce71-7daa-46f8-baae-45d7ae7a53a0\",\"type\":\"Grid\"},{\"id\":\"c74d1ca0-2f48-4d15-af70-0e0afb67504f\",\"type\":\"LinearAxis\"},{\"id\":\"1b2c010a-6332-40cf-a578-f1c1cff6642b\",\"type\":\"Grid\"},{\"id\":\"2667acb4-f945-4fa2-acba-631177c21939\",\"type\":\"BoxAnnotation\"},{\"id\":\"dcbde43f-aa26-4ed8-b2cc-0725824c377a\",\"type\":\"GlyphRenderer\"}],\"tool_events\":{\"id\":\"5667c1db-f7d0-428b-b630-9d845aded7b1\",\"type\":\"ToolEvents\"},\"tools\":[{\"id\":\"3539cdb6-9996-4d7d-b561-da07ea92bad1\",\"type\":\"PanTool\"},{\"id\":\"8d2174dd-cc4f-46ab-8dfd-9794e82d94bf\",\"type\":\"WheelZoomTool\"},{\"id\":\"fa79e934-5729-45a4-ad45-dbbbab7a725e\",\"type\":\"BoxZoomTool\"},{\"id\":\"f7b3ddf0-894b-4437-9579-a93ba9ab1bb5\",\"type\":\"PreviewSaveTool\"},{\"id\":\"0c456dbe-4359-411b-8d1c-6b37f6d8fd7d\",\"type\":\"ResizeTool\"},{\"id\":\"13ea72b8-38a2-4871-81b9-bec6488b7bee\",\"type\":\"ResetTool\"},{\"id\":\"dd5055e0-cb1e-4fb5-9afc-aa3881e6da83\",\"type\":\"HelpTool\"}],\"x_range\":{\"id\":\"7699aed9-ccba-48f3-8974-dcea3e3a390c\",\"type\":\"DataRange1d\"},\"y_range\":{\"id\":\"c1f2f735-488f-4ca3-bb9f-3292833f5785\",\"type\":\"DataRange1d\"}},\"id\":\"547ef8b8-8326-472d-a1b4-5552de23005e\",\"subtype\":\"Figure\",\"type\":\"Plot\"},{\"attributes\":{},\"id\":\"f24db3db-1ffb-46ab-97ba-6ae6bb2618fe\",\"type\":\"ToolEvents\"},{\"attributes\":{},\"id\":\"4cafb455-4226-43e7-a416-8849e8bebdf9\",\"type\":\"BasicTickFormatter\"},{\"attributes\":{\"formatter\":{\"id\":\"58761ab7-13a0-4db5-b205-7046715a9c4b\",\"type\":\"BasicTickFormatter\"},\"plot\":{\"id\":\"547ef8b8-8326-472d-a1b4-5552de23005e\",\"subtype\":\"Figure\",\"type\":\"Plot\"},\"ticker\":{\"id\":\"4d15a1f1-eea8-47db-97a3-64bd6be6ca27\",\"type\":\"BasicTicker\"}},\"id\":\"c74d1ca0-2f48-4d15-af70-0e0afb67504f\",\"type\":\"LinearAxis\"},{\"attributes\":{\"fill_alpha\":{\"value\":0.1},\"fill_color\":{\"value\":\"#1f77b4\"},\"line_alpha\":{\"value\":0.1},\"line_color\":{\"value\":\"#1f77b4\"},\"size\":{\"units\":\"screen\",\"value\":20},\"x\":{\"field\":\"x\"},\"y\":{\"field\":\"y\"}},\"id\":\"ed5e796a-7415-47d9-b647-1ad5ce514ac9\",\"type\":\"Circle\"},{\"attributes\":{\"plot\":{\"id\":\"547ef8b8-8326-472d-a1b4-5552de23005e\",\"subtype\":\"Figure\",\"type\":\"Plot\"}},\"id\":\"13ea72b8-38a2-4871-81b9-bec6488b7bee\",\"type\":\"ResetTool\"},{\"attributes\":{\"overlay\":{\"id\":\"2667acb4-f945-4fa2-acba-631177c21939\",\"type\":\"BoxAnnotation\"},\"plot\":{\"id\":\"547ef8b8-8326-472d-a1b4-5552de23005e\",\"subtype\":\"Figure\",\"type\":\"Plot\"}},\"id\":\"fa79e934-5729-45a4-ad45-dbbbab7a725e\",\"type\":\"BoxZoomTool\"},{\"attributes\":{\"plot\":{\"id\":\"547ef8b8-8326-472d-a1b4-5552de23005e\",\"subtype\":\"Figure\",\"type\":\"Plot\"}},\"id\":\"0c456dbe-4359-411b-8d1c-6b37f6d8fd7d\",\"type\":\"ResizeTool\"},{\"attributes\":{\"plot\":{\"id\":\"547ef8b8-8326-472d-a1b4-5552de23005e\",\"subtype\":\"Figure\",\"type\":\"Plot\"}},\"id\":\"f7b3ddf0-894b-4437-9579-a93ba9ab1bb5\",\"type\":\"PreviewSaveTool\"},{\"attributes\":{\"below\":[{\"id\":\"efb0c953-32e8-46a2-8831-4176ed601c07\",\"type\":\"LinearAxis\"}],\"left\":[{\"id\":\"422ecc5e-3bca-40e0-9053-f2ac624b95d7\",\"type\":\"LinearAxis\"}],\"min_border\":0,\"plot_height\":250,\"plot_width\":250,\"renderers\":[{\"id\":\"efb0c953-32e8-46a2-8831-4176ed601c07\",\"type\":\"LinearAxis\"},{\"id\":\"dd717037-a499-4452-9d11-52c40898e7f0\",\"type\":\"Grid\"},{\"id\":\"422ecc5e-3bca-40e0-9053-f2ac624b95d7\",\"type\":\"LinearAxis\"},{\"id\":\"3659ebd4-447b-49e9-8ef1-843df70897a0\",\"type\":\"Grid\"},{\"id\":\"76e3c96e-0b5c-49ae-b1fa-9e3c5f4e85c6\",\"type\":\"BoxAnnotation\"},{\"id\":\"806bfd4f-52d4-475a-8abc-3f00eb09fa48\",\"type\":\"GlyphRenderer\"}],\"tool_events\":{\"id\":\"f24db3db-1ffb-46ab-97ba-6ae6bb2618fe\",\"type\":\"ToolEvents\"},\"tools\":[{\"id\":\"594607e4-2493-481e-b888-8c7bebde15e5\",\"type\":\"PanTool\"},{\"id\":\"cdb00b1a-b9cc-4af6-81f1-ac91b8daf02d\",\"type\":\"WheelZoomTool\"},{\"id\":\"5452756d-c6ad-4193-8033-a4a1eae25702\",\"type\":\"BoxZoomTool\"},{\"id\":\"d982c74c-ebe5-4c5a-bf41-a92b5100195a\",\"type\":\"PreviewSaveTool\"},{\"id\":\"dc89c109-02b2-481a-a7d3-c36cc9266740\",\"type\":\"ResizeTool\"},{\"id\":\"1cc185ef-c8ae-4387-be75-c16845f54ca8\",\"type\":\"ResetTool\"},{\"id\":\"bc0d907e-5135-4831-8454-e57f595bc9b9\",\"type\":\"HelpTool\"}],\"x_range\":{\"id\":\"a0cae4f9-2fe6-4351-8b5a-93a6545e04b5\",\"type\":\"DataRange1d\"},\"y_range\":{\"id\":\"fca27c93-5082-422b-b133-6512962636e3\",\"type\":\"DataRange1d\"}},\"id\":\"373a45fd-9844-465c-890b-26c3464db70f\",\"subtype\":\"Figure\",\"type\":\"Plot\"},{\"attributes\":{},\"id\":\"58761ab7-13a0-4db5-b205-7046715a9c4b\",\"type\":\"BasicTickFormatter\"},{\"attributes\":{\"dimension\":1,\"plot\":{\"id\":\"373a45fd-9844-465c-890b-26c3464db70f\",\"subtype\":\"Figure\",\"type\":\"Plot\"},\"ticker\":{\"id\":\"1072f82a-f0e4-4565-aa80-6b67e32828f2\",\"type\":\"BasicTicker\"}},\"id\":\"3659ebd4-447b-49e9-8ef1-843df70897a0\",\"type\":\"Grid\"},{\"attributes\":{},\"id\":\"1072f82a-f0e4-4565-aa80-6b67e32828f2\",\"type\":\"BasicTicker\"},{\"attributes\":{\"overlay\":{\"id\":\"76e3c96e-0b5c-49ae-b1fa-9e3c5f4e85c6\",\"type\":\"BoxAnnotation\"},\"plot\":{\"id\":\"373a45fd-9844-465c-890b-26c3464db70f\",\"subtype\":\"Figure\",\"type\":\"Plot\"}},\"id\":\"5452756d-c6ad-4193-8033-a4a1eae25702\",\"type\":\"BoxZoomTool\"},{\"attributes\":{\"plot\":{\"id\":\"373a45fd-9844-465c-890b-26c3464db70f\",\"subtype\":\"Figure\",\"type\":\"Plot\"}},\"id\":\"594607e4-2493-481e-b888-8c7bebde15e5\",\"type\":\"PanTool\"},{\"attributes\":{\"plot\":{\"id\":\"373a45fd-9844-465c-890b-26c3464db70f\",\"subtype\":\"Figure\",\"type\":\"Plot\"}},\"id\":\"bc0d907e-5135-4831-8454-e57f595bc9b9\",\"type\":\"HelpTool\"},{\"attributes\":{\"children\":[{\"id\":\"373a45fd-9844-465c-890b-26c3464db70f\",\"subtype\":\"Figure\",\"type\":\"Plot\"},{\"id\":\"547ef8b8-8326-472d-a1b4-5552de23005e\",\"subtype\":\"Figure\",\"type\":\"Plot\"}]},\"id\":\"0f5c3a06-8210-49a2-b52c-ff52a1a55e4a\",\"type\":\"HBox\"},{\"attributes\":{\"data_source\":{\"id\":\"c44db2a9-9b5c-44f2-a10e-28c63aaf958c\",\"type\":\"ColumnDataSource\"},\"glyph\":{\"id\":\"6f5d9ba4-2061-462f-9a39-c6f3837fb5ea\",\"type\":\"Circle\"},\"hover_glyph\":null,\"nonselection_glyph\":{\"id\":\"ed5e796a-7415-47d9-b647-1ad5ce514ac9\",\"type\":\"Circle\"},\"selection_glyph\":null},\"id\":\"806bfd4f-52d4-475a-8abc-3f00eb09fa48\",\"type\":\"GlyphRenderer\"},{\"attributes\":{\"formatter\":{\"id\":\"4cafb455-4226-43e7-a416-8849e8bebdf9\",\"type\":\"BasicTickFormatter\"},\"plot\":{\"id\":\"373a45fd-9844-465c-890b-26c3464db70f\",\"subtype\":\"Figure\",\"type\":\"Plot\"},\"ticker\":{\"id\":\"118a7f8a-c76b-44b5-9d7f-64253596ea3e\",\"type\":\"BasicTicker\"}},\"id\":\"efb0c953-32e8-46a2-8831-4176ed601c07\",\"type\":\"LinearAxis\"},{\"attributes\":{\"callback\":null},\"id\":\"c1f2f735-488f-4ca3-bb9f-3292833f5785\",\"type\":\"DataRange1d\"},{\"attributes\":{},\"id\":\"94376f62-de86-4e3c-b1a3-505afadeeee2\",\"type\":\"BasicTickFormatter\"},{\"attributes\":{\"bottom_units\":\"screen\",\"fill_alpha\":{\"value\":0.5},\"fill_color\":{\"value\":\"lightgrey\"},\"left_units\":\"screen\",\"level\":\"overlay\",\"line_alpha\":{\"value\":1.0},\"line_color\":{\"value\":\"black\"},\"line_dash\":[4,4],\"line_width\":{\"value\":2},\"plot\":null,\"render_mode\":\"css\",\"right_units\":\"screen\",\"top_units\":\"screen\"},\"id\":\"76e3c96e-0b5c-49ae-b1fa-9e3c5f4e85c6\",\"type\":\"BoxAnnotation\"},{\"attributes\":{\"plot\":{\"id\":\"373a45fd-9844-465c-890b-26c3464db70f\",\"subtype\":\"Figure\",\"type\":\"Plot\"}},\"id\":\"cdb00b1a-b9cc-4af6-81f1-ac91b8daf02d\",\"type\":\"WheelZoomTool\"},{\"attributes\":{},\"id\":\"5667c1db-f7d0-428b-b630-9d845aded7b1\",\"type\":\"ToolEvents\"},{\"attributes\":{\"callback\":null,\"column_names\":[\"x\",\"y\"],\"data\":{\"x\":[1,2,3],\"y\":[4,5,6]}},\"id\":\"27ca54cd-e4cd-47c1-ba3d-750704203170\",\"type\":\"ColumnDataSource\"},{\"attributes\":{\"callback\":null},\"id\":\"fca27c93-5082-422b-b133-6512962636e3\",\"type\":\"DataRange1d\"},{\"attributes\":{},\"id\":\"118a7f8a-c76b-44b5-9d7f-64253596ea3e\",\"type\":\"BasicTicker\"},{\"attributes\":{\"fill_alpha\":{\"value\":0.1},\"fill_color\":{\"value\":\"#1f77b4\"},\"line_alpha\":{\"value\":0.1},\"line_color\":{\"value\":\"#1f77b4\"},\"size\":{\"units\":\"screen\",\"value\":20},\"x\":{\"field\":\"x\"},\"y\":{\"field\":\"y\"}},\"id\":\"b6670891-22ba-439e-8d1a-d469f293008a\",\"type\":\"Circle\"},{\"attributes\":{\"data_source\":{\"id\":\"27ca54cd-e4cd-47c1-ba3d-750704203170\",\"type\":\"ColumnDataSource\"},\"glyph\":{\"id\":\"dcca869f-267d-48b1-93d2-58d68479f90f\",\"type\":\"Circle\"},\"hover_glyph\":null,\"nonselection_glyph\":{\"id\":\"b6670891-22ba-439e-8d1a-d469f293008a\",\"type\":\"Circle\"},\"selection_glyph\":null},\"id\":\"dcbde43f-aa26-4ed8-b2cc-0725824c377a\",\"type\":\"GlyphRenderer\"},{\"attributes\":{\"dimension\":1,\"plot\":{\"id\":\"547ef8b8-8326-472d-a1b4-5552de23005e\",\"subtype\":\"Figure\",\"type\":\"Plot\"},\"ticker\":{\"id\":\"4d15a1f1-eea8-47db-97a3-64bd6be6ca27\",\"type\":\"BasicTicker\"}},\"id\":\"1b2c010a-6332-40cf-a578-f1c1cff6642b\",\"type\":\"Grid\"},{\"attributes\":{},\"id\":\"c6164ff2-c39e-4231-8620-577b0934aa20\",\"type\":\"BasicTickFormatter\"},{\"attributes\":{\"plot\":{\"id\":\"373a45fd-9844-465c-890b-26c3464db70f\",\"subtype\":\"Figure\",\"type\":\"Plot\"}},\"id\":\"dc89c109-02b2-481a-a7d3-c36cc9266740\",\"type\":\"ResizeTool\"},{\"attributes\":{\"callback\":null,\"column_names\":[\"x\",\"y\"],\"data\":{\"x\":[1,2,3],\"y\":[4,5,6]}},\"id\":\"c44db2a9-9b5c-44f2-a10e-28c63aaf958c\",\"type\":\"ColumnDataSource\"},{\"attributes\":{\"plot\":{\"id\":\"373a45fd-9844-465c-890b-26c3464db70f\",\"subtype\":\"Figure\",\"type\":\"Plot\"}},\"id\":\"d982c74c-ebe5-4c5a-bf41-a92b5100195a\",\"type\":\"PreviewSaveTool\"},{\"attributes\":{\"plot\":{\"id\":\"547ef8b8-8326-472d-a1b4-5552de23005e\",\"subtype\":\"Figure\",\"type\":\"Plot\"}},\"id\":\"3539cdb6-9996-4d7d-b561-da07ea92bad1\",\"type\":\"PanTool\"},{\"attributes\":{\"bottom_units\":\"screen\",\"fill_alpha\":{\"value\":0.5},\"fill_color\":{\"value\":\"lightgrey\"},\"left_units\":\"screen\",\"level\":\"overlay\",\"line_alpha\":{\"value\":1.0},\"line_color\":{\"value\":\"black\"},\"line_dash\":[4,4],\"line_width\":{\"value\":2},\"plot\":null,\"render_mode\":\"css\",\"right_units\":\"screen\",\"top_units\":\"screen\"},\"id\":\"2667acb4-f945-4fa2-acba-631177c21939\",\"type\":\"BoxAnnotation\"},{\"attributes\":{\"callback\":null},\"id\":\"7699aed9-ccba-48f3-8974-dcea3e3a390c\",\"type\":\"DataRange1d\"},{\"attributes\":{\"formatter\":{\"id\":\"c6164ff2-c39e-4231-8620-577b0934aa20\",\"type\":\"BasicTickFormatter\"},\"plot\":{\"id\":\"373a45fd-9844-465c-890b-26c3464db70f\",\"subtype\":\"Figure\",\"type\":\"Plot\"},\"ticker\":{\"id\":\"1072f82a-f0e4-4565-aa80-6b67e32828f2\",\"type\":\"BasicTicker\"}},\"id\":\"422ecc5e-3bca-40e0-9053-f2ac624b95d7\",\"type\":\"LinearAxis\"},{\"attributes\":{\"plot\":{\"id\":\"547ef8b8-8326-472d-a1b4-5552de23005e\",\"subtype\":\"Figure\",\"type\":\"Plot\"},\"ticker\":{\"id\":\"195e6671-a7cc-44c2-84ce-a75adb225700\",\"type\":\"BasicTicker\"}},\"id\":\"fe20ce71-7daa-46f8-baae-45d7ae7a53a0\",\"type\":\"Grid\"},{\"attributes\":{\"plot\":{\"id\":\"373a45fd-9844-465c-890b-26c3464db70f\",\"subtype\":\"Figure\",\"type\":\"Plot\"}},\"id\":\"1cc185ef-c8ae-4387-be75-c16845f54ca8\",\"type\":\"ResetTool\"},{\"attributes\":{\"plot\":{\"id\":\"373a45fd-9844-465c-890b-26c3464db70f\",\"subtype\":\"Figure\",\"type\":\"Plot\"},\"ticker\":{\"id\":\"118a7f8a-c76b-44b5-9d7f-64253596ea3e\",\"type\":\"BasicTicker\"}},\"id\":\"dd717037-a499-4452-9d11-52c40898e7f0\",\"type\":\"Grid\"}],\"root_ids\":[\"0f5c3a06-8210-49a2-b52c-ff52a1a55e4a\"]},\"title\":\"Bokeh Application\",\"version\":\"0.11.1\"}};\n",
       "            var render_items = [{\"docid\":\"74a777fb-cb79-4aac-9ee3-3f38b269eb06\",\"elementid\":\"58c47f9f-e2f0-47f2-93e6-f1a49ba8659f\",\"modelid\":\"0f5c3a06-8210-49a2-b52c-ff52a1a55e4a\",\"notebook_comms_target\":\"66d13330-1e9c-4eec-a1fc-3d740b9cfb66\"}];\n",
       "            \n",
       "            Bokeh.embed.embed_items(docs_json, render_items);\n",
       "        });\n",
       "      },\n",
       "      function(Bokeh) {\n",
       "      }\n",
       "    ];\n",
       "  \n",
       "    function run_inline_js() {\n",
       "      for (var i = 0; i < inline_js.length; i++) {\n",
       "        inline_js[i](window.Bokeh);\n",
       "      }\n",
       "    }\n",
       "  \n",
       "    if (window._bokeh_is_loading === 0) {\n",
       "      console.log(\"Bokeh: BokehJS loaded, going straight to plotting\");\n",
       "      run_inline_js();\n",
       "    } else {\n",
       "      load_libs(js_urls, function() {\n",
       "        console.log(\"Bokeh: BokehJS plotting callback run at\", now());\n",
       "        run_inline_js();\n",
       "      });\n",
       "    }\n",
       "  }(this));\n",
       "</script>"
      ]
     },
     "metadata": {},
     "output_type": "display_data"
    }
   ],
   "source": [
    "p1 = figure(**opts)\n",
    "r1 = p1.circle([1,2,3], [4,5,6], size=20)\n",
    "\n",
    "p2 = figure(**opts)\n",
    "r2 = p2.circle([1,2,3], [4,5,6], size=20)\n",
    "\n",
    "# get a handle to update the shown cell with\n",
    "t = show(hplot(p1, p2))"
   ]
  },
  {
   "cell_type": "code",
   "execution_count": null,
   "metadata": {
    "collapsed": false
   },
   "outputs": [],
   "source": [
    "# the comms handle repr show what cell it can be used to update\n",
    "t"
   ]
  },
  {
   "cell_type": "code",
   "execution_count": null,
   "metadata": {
    "collapsed": false
   },
   "outputs": [],
   "source": [
    "# this will update the left plot circle color with an explicit handle\n",
    "r1.glyph.fill_color = \"white\"\n",
    "push_notebook(handle=t)"
   ]
  },
  {
   "cell_type": "code",
   "execution_count": null,
   "metadata": {
    "collapsed": false
   },
   "outputs": [],
   "source": [
    "# and this will update the right plot circle color because it was in the last shown cell\n",
    "r2.glyph.fill_color = \"pink\"\n",
    "push_notebook()"
   ]
  },
  {
   "cell_type": "code",
   "execution_count": null,
   "metadata": {
    "collapsed": false
   },
   "outputs": [],
   "source": [
    "p3 = figure(**opts)\n",
    "r3 = p3.circle([1,2,3], [4,5,6], size=20)\n",
    "\n",
    "# get a handle to update the shown cell with\n",
    "t2 = show(p3) "
   ]
  },
  {
   "cell_type": "code",
   "execution_count": null,
   "metadata": {
    "collapsed": false
   },
   "outputs": [],
   "source": [
    "# show which cell t2 handles\n",
    "t2"
   ]
  },
  {
   "cell_type": "code",
   "execution_count": null,
   "metadata": {
    "collapsed": false
   },
   "outputs": [],
   "source": [
    "# this updates the immediately previous cell with an explicit handle\n",
    "r3.glyph.fill_color = \"orange\"\n",
    "push_notebook(handle=t2)"
   ]
  },
  {
   "cell_type": "code",
   "execution_count": null,
   "metadata": {
    "collapsed": false
   },
   "outputs": [],
   "source": [
    "# this updates the left plot at the top with an explicit handle\n",
    "r1.glyph.fill_color = \"orange\"\n",
    "push_notebook(handle=t)"
   ]
  },
  {
   "cell_type": "code",
   "execution_count": null,
   "metadata": {
    "collapsed": false
   },
   "outputs": [],
   "source": [
    "# get a handle to update the shown cell with\n",
    "t3 = show(p2)"
   ]
  },
  {
   "cell_type": "code",
   "execution_count": null,
   "metadata": {
    "collapsed": false
   },
   "outputs": [],
   "source": [
    "# this will update the immediately previous plot circle color because it was in the last shown cell\n",
    "r2.glyph.fill_color = \"red\"\n",
    "push_notebook()"
   ]
  },
  {
   "cell_type": "code",
   "execution_count": null,
   "metadata": {
    "collapsed": false
   },
   "outputs": [],
   "source": [
    "# this will update the immediately previous plot circle color with an explicit handle\n",
    "r2.glyph.fill_color = \"blue\"\n",
    "push_notebook(handle=t3)"
   ]
  },
  {
   "cell_type": "code",
   "execution_count": null,
   "metadata": {
    "collapsed": false
   },
   "outputs": [],
   "source": []
  },
  {
   "cell_type": "code",
   "execution_count": null,
   "metadata": {
    "collapsed": true
   },
   "outputs": [],
   "source": []
  },
  {
   "cell_type": "code",
   "execution_count": null,
   "metadata": {
    "collapsed": true
   },
   "outputs": [],
   "source": []
  },
  {
   "cell_type": "code",
   "execution_count": null,
   "metadata": {
    "collapsed": true
   },
   "outputs": [],
   "source": []
  }
 ],
 "metadata": {
  "kernelspec": {
   "display_name": "Python 3",
   "language": "python",
   "name": "python3"
  },
  "language_info": {
   "codemirror_mode": {
    "name": "ipython",
    "version": 3
   },
   "file_extension": ".py",
   "mimetype": "text/x-python",
   "name": "python",
   "nbconvert_exporter": "python",
   "pygments_lexer": "ipython3",
   "version": "3.5.1"
  }
 },
 "nbformat": 4,
 "nbformat_minor": 0
}
