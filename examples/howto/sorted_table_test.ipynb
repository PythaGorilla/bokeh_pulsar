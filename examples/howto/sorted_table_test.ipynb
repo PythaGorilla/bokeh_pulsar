{
 "cells": [
  {
   "cell_type": "code",
   "execution_count": 5,
   "metadata": {},
   "outputs": [],
   "source": [
    "import bokeh \n",
    "from bokeh.plotting import figure, output_notebook, show\n",
    "from bokeh.models import *\n",
    "from bokeh.io import push_notebook\n",
    "\n",
    "import pandas as pd"
   ]
  },
  {
   "cell_type": "markdown",
   "metadata": {},
   "source": [
    "First create and display a Bokeh Table"
   ]
  },
  {
   "cell_type": "code",
   "execution_count": 6,
   "metadata": {},
   "outputs": [
    {
     "name": "stdout",
     "output_type": "stream",
     "text": [
      "bokeh version: 0.11.1\n"
     ]
    },
    {
     "data": {
      "text/html": [
       "\n",
       "    <div class=\"bk-banner\">\n",
       "        <a href=\"http://bokeh.pydata.org\" target=\"_blank\" class=\"bk-logo bk-logo-small bk-logo-notebook\"></a>\n",
       "        <span id=\"498c946b-5153-45b8-94b2-b673d756eac3\">Loading BokehJS ...</span>\n",
       "    </div>"
      ]
     },
     "output_type": "execute_result",
     "metadata": {}
    },
    {
     "metadata": {}
    },
    {
     "data": {
      "text/html": [
       "\n",
       "\n",
       "    <div class=\"plotdiv\" id=\"5941fa73-bc37-4dd3-aada-c794a7e1d6fd\"></div>\n",
       "<script type=\"text/javascript\">\n",
       "  \n",
       "  (function(global) {\n",
       "    function now() {\n",
       "      return new Date();\n",
       "    }\n",
       "  \n",
       "    if (typeof (window._bokeh_onload_callbacks) === \"undefined\") {\n",
       "      window._bokeh_onload_callbacks = [];\n",
       "    }\n",
       "  \n",
       "    function run_callbacks() {\n",
       "      window._bokeh_onload_callbacks.forEach(function(callback) { callback() });\n",
       "      delete window._bokeh_onload_callbacks\n",
       "      console.info(\"Bokeh: all callbacks have finished\");\n",
       "    }\n",
       "  \n",
       "    function load_libs(js_urls, callback) {\n",
       "      window._bokeh_onload_callbacks.push(callback);\n",
       "      if (window._bokeh_is_loading > 0) {\n",
       "        console.log(\"Bokeh: BokehJS is being loaded, scheduling callback at\", now());\n",
       "        return null;\n",
       "      }\n",
       "      if (js_urls == null || js_urls.length === 0) {\n",
       "        run_callbacks();\n",
       "        return null;\n",
       "      }\n",
       "      console.log(\"Bokeh: BokehJS not loaded, scheduling load and callback at\", now());\n",
       "      window._bokeh_is_loading = js_urls.length;\n",
       "      for (var i = 0; i < js_urls.length; i++) {\n",
       "        var url = js_urls[i];\n",
       "        var s = document.createElement('script');\n",
       "        s.src = url;\n",
       "        s.async = false;\n",
       "        s.onreadystatechange = s.onload = function() {\n",
       "          window._bokeh_is_loading--;\n",
       "          if (window._bokeh_is_loading === 0) {\n",
       "            console.log(\"Bokeh: all BokehJS libraries loaded\");\n",
       "            run_callbacks()\n",
       "          }\n",
       "        };\n",
       "        s.onerror = function() {\n",
       "          console.warn(\"failed to load library \" + url);\n",
       "        };\n",
       "        console.log(\"Bokeh: injecting script tag for BokehJS library: \", url);\n",
       "        document.getElementsByTagName(\"head\")[0].appendChild(s);\n",
       "      }\n",
       "    };var element = document.getElementById(\"5941fa73-bc37-4dd3-aada-c794a7e1d6fd\");\n",
       "    if (element == null) {\n",
       "      console.log(\"Bokeh: ERROR: autoload.js configured with elementid '5941fa73-bc37-4dd3-aada-c794a7e1d6fd' but no matching script tag was found. \")\n",
       "      return false;\n",
       "    }\n",
       "  \n",
       "    var js_urls = [];\n",
       "  \n",
       "    var inline_js = [\n",
       "      function(Bokeh) {\n",
       "        Bokeh.$(function() {\n",
       "            var docs_json = {\"1ccc7f73-ceb1-497c-b56b-237af831c6bf\":{\"roots\":{\"references\":[{\"attributes\":{\"callback\":{\"id\":\"9d493a47-0e5a-436c-8b52-99b3d30243f6\",\"type\":\"CustomJS\"},\"column_names\":[\"index\",\"AAA\",\"BBB\",\"CCC\"],\"data\":{\"AAA\":[4,5,6,7],\"BBB\":[10,20,30,40],\"CCC\":[100,50,-30,-50],\"index\":[0,1,2,3]}},\"id\":\"375ac0fb-cbd6-40b1-9a68-8e00dbad8582\",\"type\":\"ColumnDataSource\"},{\"attributes\":{\"args\":{\"source\":{\"id\":\"375ac0fb-cbd6-40b1-9a68-8e00dbad8582\",\"type\":\"ColumnDataSource\"}},\"code\":\"\\n    var kernel = IPython.notebook.kernel;\\n    var resultsSRows = cb_obj.get('selected')['1d'].indices;\\n    IPython.notebook.kernel.execute(\\\"resultsSRows = \\\" + resultsSRows);\\n    source.trigger('change');\\n    cb_obj.trigger('change'); \\n    //IPython.notebook.kernel.execute(\\\"resultsTableSelectionChanged()\\\");\\n    \"},\"id\":\"9d493a47-0e5a-436c-8b52-99b3d30243f6\",\"type\":\"CustomJS\"},{\"attributes\":{},\"id\":\"25a7b28a-c689-47b2-9be4-74e4e768f972\",\"type\":\"StringFormatter\"},{\"attributes\":{\"editor\":{\"id\":\"86cc3d60-1d31-4f79-9641-eafd73cdf44c\",\"type\":\"StringEditor\"},\"field\":\"CCC\",\"formatter\":{\"id\":\"897ae74b-49fa-41de-b723-ebc07fef5f73\",\"type\":\"StringFormatter\"},\"title\":\"CCC\"},\"id\":\"bfdc525b-af9d-45c5-88aa-a6ca18336477\",\"type\":\"TableColumn\"},{\"attributes\":{\"columns\":[{\"id\":\"dbb57e0e-c187-49fe-8050-daf0e010dda0\",\"type\":\"TableColumn\"},{\"id\":\"26ef718e-da5b-4cf1-9442-216bdf3dd9ce\",\"type\":\"TableColumn\"},{\"id\":\"bfdc525b-af9d-45c5-88aa-a6ca18336477\",\"type\":\"TableColumn\"}],\"height\":300,\"selectable\":true,\"source\":{\"id\":\"375ac0fb-cbd6-40b1-9a68-8e00dbad8582\",\"type\":\"ColumnDataSource\"}},\"id\":\"c04c9bf1-a7c7-432e-a01c-0c93df47af1e\",\"type\":\"DataTable\"},{\"attributes\":{},\"id\":\"897ae74b-49fa-41de-b723-ebc07fef5f73\",\"type\":\"StringFormatter\"},{\"attributes\":{\"editor\":{\"id\":\"f6feafa4-2462-4562-b396-60798aa9861c\",\"type\":\"StringEditor\"},\"field\":\"AAA\",\"formatter\":{\"id\":\"8fcec73b-8fe5-4fbb-9398-1b1f251ffd70\",\"type\":\"StringFormatter\"},\"title\":\"AAA\"},\"id\":\"dbb57e0e-c187-49fe-8050-daf0e010dda0\",\"type\":\"TableColumn\"},{\"attributes\":{},\"id\":\"86cc3d60-1d31-4f79-9641-eafd73cdf44c\",\"type\":\"StringEditor\"},{\"attributes\":{},\"id\":\"8fcec73b-8fe5-4fbb-9398-1b1f251ffd70\",\"type\":\"StringFormatter\"},{\"attributes\":{},\"id\":\"d690121f-b8df-4593-90ec-3f1007f97549\",\"type\":\"StringEditor\"},{\"attributes\":{\"editor\":{\"id\":\"d690121f-b8df-4593-90ec-3f1007f97549\",\"type\":\"StringEditor\"},\"field\":\"BBB\",\"formatter\":{\"id\":\"25a7b28a-c689-47b2-9be4-74e4e768f972\",\"type\":\"StringFormatter\"},\"title\":\"BBB\"},\"id\":\"26ef718e-da5b-4cf1-9442-216bdf3dd9ce\",\"type\":\"TableColumn\"},{\"attributes\":{},\"id\":\"f6feafa4-2462-4562-b396-60798aa9861c\",\"type\":\"StringEditor\"}],\"root_ids\":[\"c04c9bf1-a7c7-432e-a01c-0c93df47af1e\"]},\"title\":\"Bokeh Application\",\"version\":\"0.11.1\"}};\n",
       "            var render_items = [{\"docid\":\"1ccc7f73-ceb1-497c-b56b-237af831c6bf\",\"elementid\":\"5941fa73-bc37-4dd3-aada-c794a7e1d6fd\",\"modelid\":\"c04c9bf1-a7c7-432e-a01c-0c93df47af1e\",\"notebook_comms_target\":\"9b888b29-8b62-4edd-b2ba-648cd9a561d0\"}];\n",
       "            \n",
       "            Bokeh.embed.embed_items(docs_json, render_items);\n",
       "        });\n",
       "      },\n",
       "      function(Bokeh) {\n",
       "      }\n",
       "    ];\n",
       "  \n",
       "    function run_inline_js() {\n",
       "      for (var i = 0; i < inline_js.length; i++) {\n",
       "        inline_js[i](window.Bokeh);\n",
       "      }\n",
       "    }\n",
       "  \n",
       "    if (window._bokeh_is_loading === 0) {\n",
       "      console.log(\"Bokeh: BokehJS loaded, going straight to plotting\");\n",
       "      run_inline_js();\n",
       "    } else {\n",
       "      load_libs(js_urls, function() {\n",
       "        console.log(\"Bokeh: BokehJS plotting callback run at\", now());\n",
       "        run_inline_js();\n",
       "      });\n",
       "    }\n",
       "  }(this));\n",
       "</script>"
      ]
     },
     "output_type": "execute_result",
     "metadata": {}
    },
    {
     "data": {
      "text/html": [
       "<p><code>&lt;Bokeh Notebook handle for <strong>In[6]</strong>&gt;</code></p>"
      ]
     },
     "output_type": "execute_result",
     "metadata": {}
    }
   ],
   "source": [
    "print('bokeh version: %s' %  bokeh.__version__)\n",
    "output_notebook()\n",
    "\n",
    "df = pd.DataFrame( {'AAA' : [4,5,6,7], 'BBB' : [10,20,30,40],'CCC' : [100,50,-30,-50]})\n",
    "data = df.to_dict(orient='list')\n",
    "tableSource = ColumnDataSource(df)\n",
    "\n",
    "columns = [TableColumn(field=\"AAA\", title=\"AAA\"), \n",
    "           TableColumn(field=\"BBB\", title=\"BBB\"), \n",
    "           TableColumn(field=\"CCC\", title=\"CCC\")]\n",
    "\n",
    "bokehTable = DataTable(columns=columns, source=tableSource, \n",
    "                       editable=False, fit_columns=True, height=300,\n",
    "                       row_headers=True, selectable=True, sortable=True)\n",
    "\n",
    "tableSource.callback = CustomJS(args=dict(source=tableSource), code=\"\"\"\n",
    "    var kernel = IPython.notebook.kernel;\n",
    "    var resultsSRows = cb_obj.get('selected')['1d'].indices;\n",
    "    IPython.notebook.kernel.execute(\"resultsSRows = \" + resultsSRows);\n",
    "    source.trigger('change');\n",
    "    cb_obj.trigger('change'); \n",
    "    //IPython.notebook.kernel.execute(\"resultsTableSelectionChanged()\");\n",
    "    \"\"\")\n",
    "\n",
    "show(bokehTable)"
   ]
  },
  {
   "cell_type": "markdown",
   "metadata": {},
   "source": [
    "Select one or more rows in the table above then run the next cell.  Then sort the table by clicking on one of the column headers and run the following cell again.  The values(s) for the selections indicate the rows\n",
    "of that are displayed, not those of the original data source.  \n",
    "\n",
    "As far as I know there is no way to ask a Bokeh table to give us the values contained on a particular row so the only way to get the data for the selected rows is to get them from the data source.  This works fine if the table hasn't been sorted but the selection indicies returned by Bokeh cannot be used to obtain the data on the selected rows after the order has been altered."
   ]
  },
  {
   "cell_type": "code",
   "execution_count": 7,
   "metadata": {},
   "outputs": [
    {
     "name": "stdout",
     "output_type": "stream",
     "text": [
      "2\n"
     ]
    }
   ],
   "source": [
    "print(resultsSRows)"
   ]
  },
  {
   "cell_type": "code",
   "execution_count": null,
   "metadata": {},
   "outputs": [],
   "source": [
    ""
   ]
  },
  {
   "cell_type": "code",
   "execution_count": null,
   "metadata": {},
   "outputs": [],
   "source": [
    ""
   ]
  }
 ],
 "metadata": {
  "kernelspec": {
   "display_name": "Python 2",
   "language": "python",
   "name": "python2"
  },
  "language_info": {
   "codemirror_mode": {
    "name": "ipython",
    "version": 2.0
   },
   "file_extension": ".py",
   "mimetype": "text/x-python",
   "name": "python",
   "nbconvert_exporter": "python",
   "pygments_lexer": "ipython2",
   "version": "2.7.11"
  }
 },
 "nbformat": 4,
 "nbformat_minor": 0
}